{
  "nbformat": 4,
  "nbformat_minor": 0,
  "metadata": {
    "colab": {
      "name": "SelfDriveSimulator_FitGenerator.ipynb",
      "version": "0.3.2",
      "provenance": [],
      "collapsed_sections": []
    },
    "kernelspec": {
      "name": "python3",
      "display_name": "Python 3"
    },
    "accelerator": "GPU"
  },
  "cells": [
    {
      "metadata": {
        "id": "nddL3NW31CK9",
        "colab_type": "code",
        "outputId": "c102e51a-f2f9-4cbe-b98f-8b36adaa30ba",
        "colab": {
          "base_uri": "https://localhost:8080/",
          "height": 34
        }
      },
      "cell_type": "code",
      "source": [
        "!git clone https://github.com/rslim087a/track"
      ],
      "execution_count": 0,
      "outputs": [
        {
          "output_type": "stream",
          "text": [
            "fatal: destination path 'track' already exists and is not an empty directory.\n"
          ],
          "name": "stdout"
        }
      ]
    },
    {
      "metadata": {
        "id": "4Dc3GElA1MMW",
        "colab_type": "code",
        "outputId": "1eef21ac-d1c5-457a-f784-1c6d3a957aaf",
        "colab": {
          "base_uri": "https://localhost:8080/",
          "height": 34
        }
      },
      "cell_type": "code",
      "source": [
        "!ls"
      ],
      "execution_count": 0,
      "outputs": [
        {
          "output_type": "stream",
          "text": [
            "model.h5  sample_data  track\n"
          ],
          "name": "stdout"
        }
      ]
    },
    {
      "metadata": {
        "id": "JpNrvFo93A4J",
        "colab_type": "code",
        "colab": {}
      },
      "cell_type": "code",
      "source": [
        "import numpy as np\n",
        "import matplotlib.pyplot as plt\n",
        "import matplotlib.image as mpimg\n",
        "import keras\n",
        "from keras.models import Sequential\n",
        "from keras.optimizers import Adam\n",
        "from keras.layers import Convolution2D, MaxPooling2D, Dropout, Flatten, Dense\n",
        "from sklearn.utils import shuffle\n",
        "from sklearn.model_selection import train_test_split\n",
        "from imgaug import augmenters as iaa\n",
        "import cv2\n",
        "import csv\n",
        "import pandas as pd\n",
        "import ntpath\n",
        "import random\n",
        "from collections import OrderedDict\n",
        "from imgaug import augmenters as iaa"
      ],
      "execution_count": 0,
      "outputs": []
    },
    {
      "metadata": {
        "id": "NBAXVcnF3CqP",
        "colab_type": "code",
        "outputId": "b65112df-f507-4058-8154-2b75e3e1da76",
        "colab": {
          "base_uri": "https://localhost:8080/",
          "height": 224
        }
      },
      "cell_type": "code",
      "source": [
        "#making columns for our input csv file(these header might not be there in csv file)\n",
        "columns = ['center', 'left', 'right', 'steering', 'throttle', 'reverse', 'speed']\n",
        "data = pd.read_csv(('track//driving_log.csv'), names = columns)\n",
        "pd.set_option('display.max_colwidth', -1)   # to show full file path isntead of ...\n",
        "data.head()"
      ],
      "execution_count": 0,
      "outputs": [
        {
          "output_type": "execute_result",
          "data": {
            "text/html": [
              "<div>\n",
              "<style scoped>\n",
              "    .dataframe tbody tr th:only-of-type {\n",
              "        vertical-align: middle;\n",
              "    }\n",
              "\n",
              "    .dataframe tbody tr th {\n",
              "        vertical-align: top;\n",
              "    }\n",
              "\n",
              "    .dataframe thead th {\n",
              "        text-align: right;\n",
              "    }\n",
              "</style>\n",
              "<table border=\"1\" class=\"dataframe\">\n",
              "  <thead>\n",
              "    <tr style=\"text-align: right;\">\n",
              "      <th></th>\n",
              "      <th>center</th>\n",
              "      <th>left</th>\n",
              "      <th>right</th>\n",
              "      <th>steering</th>\n",
              "      <th>throttle</th>\n",
              "      <th>reverse</th>\n",
              "      <th>speed</th>\n",
              "    </tr>\n",
              "  </thead>\n",
              "  <tbody>\n",
              "    <tr>\n",
              "      <th>0</th>\n",
              "      <td>C:\\Users\\Amer\\Desktop\\new_track\\IMG\\center_2018_07_16_17_11_43_382.jpg</td>\n",
              "      <td>C:\\Users\\Amer\\Desktop\\new_track\\IMG\\left_2018_07_16_17_11_43_382.jpg</td>\n",
              "      <td>C:\\Users\\Amer\\Desktop\\new_track\\IMG\\right_2018_07_16_17_11_43_382.jpg</td>\n",
              "      <td>0.0</td>\n",
              "      <td>0.0</td>\n",
              "      <td>0.0</td>\n",
              "      <td>0.649786</td>\n",
              "    </tr>\n",
              "    <tr>\n",
              "      <th>1</th>\n",
              "      <td>C:\\Users\\Amer\\Desktop\\new_track\\IMG\\center_2018_07_16_17_11_43_670.jpg</td>\n",
              "      <td>C:\\Users\\Amer\\Desktop\\new_track\\IMG\\left_2018_07_16_17_11_43_670.jpg</td>\n",
              "      <td>C:\\Users\\Amer\\Desktop\\new_track\\IMG\\right_2018_07_16_17_11_43_670.jpg</td>\n",
              "      <td>0.0</td>\n",
              "      <td>0.0</td>\n",
              "      <td>0.0</td>\n",
              "      <td>0.627942</td>\n",
              "    </tr>\n",
              "    <tr>\n",
              "      <th>2</th>\n",
              "      <td>C:\\Users\\Amer\\Desktop\\new_track\\IMG\\center_2018_07_16_17_11_43_724.jpg</td>\n",
              "      <td>C:\\Users\\Amer\\Desktop\\new_track\\IMG\\left_2018_07_16_17_11_43_724.jpg</td>\n",
              "      <td>C:\\Users\\Amer\\Desktop\\new_track\\IMG\\right_2018_07_16_17_11_43_724.jpg</td>\n",
              "      <td>0.0</td>\n",
              "      <td>0.0</td>\n",
              "      <td>0.0</td>\n",
              "      <td>0.622910</td>\n",
              "    </tr>\n",
              "    <tr>\n",
              "      <th>3</th>\n",
              "      <td>C:\\Users\\Amer\\Desktop\\new_track\\IMG\\center_2018_07_16_17_11_43_792.jpg</td>\n",
              "      <td>C:\\Users\\Amer\\Desktop\\new_track\\IMG\\left_2018_07_16_17_11_43_792.jpg</td>\n",
              "      <td>C:\\Users\\Amer\\Desktop\\new_track\\IMG\\right_2018_07_16_17_11_43_792.jpg</td>\n",
              "      <td>0.0</td>\n",
              "      <td>0.0</td>\n",
              "      <td>0.0</td>\n",
              "      <td>0.619162</td>\n",
              "    </tr>\n",
              "    <tr>\n",
              "      <th>4</th>\n",
              "      <td>C:\\Users\\Amer\\Desktop\\new_track\\IMG\\center_2018_07_16_17_11_43_860.jpg</td>\n",
              "      <td>C:\\Users\\Amer\\Desktop\\new_track\\IMG\\left_2018_07_16_17_11_43_860.jpg</td>\n",
              "      <td>C:\\Users\\Amer\\Desktop\\new_track\\IMG\\right_2018_07_16_17_11_43_860.jpg</td>\n",
              "      <td>0.0</td>\n",
              "      <td>0.0</td>\n",
              "      <td>0.0</td>\n",
              "      <td>0.615438</td>\n",
              "    </tr>\n",
              "  </tbody>\n",
              "</table>\n",
              "</div>"
            ],
            "text/plain": [
              "                                                                   center  \\\n",
              "0  C:\\Users\\Amer\\Desktop\\new_track\\IMG\\center_2018_07_16_17_11_43_382.jpg   \n",
              "1  C:\\Users\\Amer\\Desktop\\new_track\\IMG\\center_2018_07_16_17_11_43_670.jpg   \n",
              "2  C:\\Users\\Amer\\Desktop\\new_track\\IMG\\center_2018_07_16_17_11_43_724.jpg   \n",
              "3  C:\\Users\\Amer\\Desktop\\new_track\\IMG\\center_2018_07_16_17_11_43_792.jpg   \n",
              "4  C:\\Users\\Amer\\Desktop\\new_track\\IMG\\center_2018_07_16_17_11_43_860.jpg   \n",
              "\n",
              "                                                                   left  \\\n",
              "0  C:\\Users\\Amer\\Desktop\\new_track\\IMG\\left_2018_07_16_17_11_43_382.jpg   \n",
              "1  C:\\Users\\Amer\\Desktop\\new_track\\IMG\\left_2018_07_16_17_11_43_670.jpg   \n",
              "2  C:\\Users\\Amer\\Desktop\\new_track\\IMG\\left_2018_07_16_17_11_43_724.jpg   \n",
              "3  C:\\Users\\Amer\\Desktop\\new_track\\IMG\\left_2018_07_16_17_11_43_792.jpg   \n",
              "4  C:\\Users\\Amer\\Desktop\\new_track\\IMG\\left_2018_07_16_17_11_43_860.jpg   \n",
              "\n",
              "                                                                   right  \\\n",
              "0  C:\\Users\\Amer\\Desktop\\new_track\\IMG\\right_2018_07_16_17_11_43_382.jpg   \n",
              "1  C:\\Users\\Amer\\Desktop\\new_track\\IMG\\right_2018_07_16_17_11_43_670.jpg   \n",
              "2  C:\\Users\\Amer\\Desktop\\new_track\\IMG\\right_2018_07_16_17_11_43_724.jpg   \n",
              "3  C:\\Users\\Amer\\Desktop\\new_track\\IMG\\right_2018_07_16_17_11_43_792.jpg   \n",
              "4  C:\\Users\\Amer\\Desktop\\new_track\\IMG\\right_2018_07_16_17_11_43_860.jpg   \n",
              "\n",
              "   steering  throttle  reverse     speed  \n",
              "0  0.0       0.0       0.0      0.649786  \n",
              "1  0.0       0.0       0.0      0.627942  \n",
              "2  0.0       0.0       0.0      0.622910  \n",
              "3  0.0       0.0       0.0      0.619162  \n",
              "4  0.0       0.0       0.0      0.615438  "
            ]
          },
          "metadata": {
            "tags": []
          },
          "execution_count": 151
        }
      ]
    },
    {
      "metadata": {
        "id": "zhgT7y244pzM",
        "colab_type": "code",
        "outputId": "a8f125b7-0ddb-4f39-994e-987e379205b6",
        "colab": {
          "base_uri": "https://localhost:8080/",
          "height": 204
        }
      },
      "cell_type": "code",
      "source": [
        "def getOnlyImageName(path):\n",
        "  head, tail = ntpath.split(path)\n",
        "  return tail\n",
        "\n",
        "data['center'] = data['center'].apply(getOnlyImageName)\n",
        "data['left'] = data['left'].apply(getOnlyImageName)\n",
        "data['right'] = data['right'].apply(getOnlyImageName)\n",
        "data.head()"
      ],
      "execution_count": 0,
      "outputs": [
        {
          "output_type": "execute_result",
          "data": {
            "text/html": [
              "<div>\n",
              "<style scoped>\n",
              "    .dataframe tbody tr th:only-of-type {\n",
              "        vertical-align: middle;\n",
              "    }\n",
              "\n",
              "    .dataframe tbody tr th {\n",
              "        vertical-align: top;\n",
              "    }\n",
              "\n",
              "    .dataframe thead th {\n",
              "        text-align: right;\n",
              "    }\n",
              "</style>\n",
              "<table border=\"1\" class=\"dataframe\">\n",
              "  <thead>\n",
              "    <tr style=\"text-align: right;\">\n",
              "      <th></th>\n",
              "      <th>center</th>\n",
              "      <th>left</th>\n",
              "      <th>right</th>\n",
              "      <th>steering</th>\n",
              "      <th>throttle</th>\n",
              "      <th>reverse</th>\n",
              "      <th>speed</th>\n",
              "    </tr>\n",
              "  </thead>\n",
              "  <tbody>\n",
              "    <tr>\n",
              "      <th>0</th>\n",
              "      <td>center_2018_07_16_17_11_43_382.jpg</td>\n",
              "      <td>left_2018_07_16_17_11_43_382.jpg</td>\n",
              "      <td>right_2018_07_16_17_11_43_382.jpg</td>\n",
              "      <td>0.0</td>\n",
              "      <td>0.0</td>\n",
              "      <td>0.0</td>\n",
              "      <td>0.649786</td>\n",
              "    </tr>\n",
              "    <tr>\n",
              "      <th>1</th>\n",
              "      <td>center_2018_07_16_17_11_43_670.jpg</td>\n",
              "      <td>left_2018_07_16_17_11_43_670.jpg</td>\n",
              "      <td>right_2018_07_16_17_11_43_670.jpg</td>\n",
              "      <td>0.0</td>\n",
              "      <td>0.0</td>\n",
              "      <td>0.0</td>\n",
              "      <td>0.627942</td>\n",
              "    </tr>\n",
              "    <tr>\n",
              "      <th>2</th>\n",
              "      <td>center_2018_07_16_17_11_43_724.jpg</td>\n",
              "      <td>left_2018_07_16_17_11_43_724.jpg</td>\n",
              "      <td>right_2018_07_16_17_11_43_724.jpg</td>\n",
              "      <td>0.0</td>\n",
              "      <td>0.0</td>\n",
              "      <td>0.0</td>\n",
              "      <td>0.622910</td>\n",
              "    </tr>\n",
              "    <tr>\n",
              "      <th>3</th>\n",
              "      <td>center_2018_07_16_17_11_43_792.jpg</td>\n",
              "      <td>left_2018_07_16_17_11_43_792.jpg</td>\n",
              "      <td>right_2018_07_16_17_11_43_792.jpg</td>\n",
              "      <td>0.0</td>\n",
              "      <td>0.0</td>\n",
              "      <td>0.0</td>\n",
              "      <td>0.619162</td>\n",
              "    </tr>\n",
              "    <tr>\n",
              "      <th>4</th>\n",
              "      <td>center_2018_07_16_17_11_43_860.jpg</td>\n",
              "      <td>left_2018_07_16_17_11_43_860.jpg</td>\n",
              "      <td>right_2018_07_16_17_11_43_860.jpg</td>\n",
              "      <td>0.0</td>\n",
              "      <td>0.0</td>\n",
              "      <td>0.0</td>\n",
              "      <td>0.615438</td>\n",
              "    </tr>\n",
              "  </tbody>\n",
              "</table>\n",
              "</div>"
            ],
            "text/plain": [
              "                               center                              left  \\\n",
              "0  center_2018_07_16_17_11_43_382.jpg  left_2018_07_16_17_11_43_382.jpg   \n",
              "1  center_2018_07_16_17_11_43_670.jpg  left_2018_07_16_17_11_43_670.jpg   \n",
              "2  center_2018_07_16_17_11_43_724.jpg  left_2018_07_16_17_11_43_724.jpg   \n",
              "3  center_2018_07_16_17_11_43_792.jpg  left_2018_07_16_17_11_43_792.jpg   \n",
              "4  center_2018_07_16_17_11_43_860.jpg  left_2018_07_16_17_11_43_860.jpg   \n",
              "\n",
              "                               right  steering  throttle  reverse     speed  \n",
              "0  right_2018_07_16_17_11_43_382.jpg  0.0       0.0       0.0      0.649786  \n",
              "1  right_2018_07_16_17_11_43_670.jpg  0.0       0.0       0.0      0.627942  \n",
              "2  right_2018_07_16_17_11_43_724.jpg  0.0       0.0       0.0      0.622910  \n",
              "3  right_2018_07_16_17_11_43_792.jpg  0.0       0.0       0.0      0.619162  \n",
              "4  right_2018_07_16_17_11_43_860.jpg  0.0       0.0       0.0      0.615438  "
            ]
          },
          "metadata": {
            "tags": []
          },
          "execution_count": 152
        }
      ]
    },
    {
      "metadata": {
        "id": "KaIjqkodKi0g",
        "colab_type": "code",
        "outputId": "a403a556-ad32-46c9-c32e-0e80fd244d20",
        "colab": {
          "base_uri": "https://localhost:8080/",
          "height": 466
        }
      },
      "cell_type": "code",
      "source": [
        "(n, bins, patches)=plt.hist(data['steering'], density=True, bins=25)\n",
        "\n",
        "print(n)"
      ],
      "execution_count": 0,
      "outputs": [
        {
          "output_type": "stream",
          "text": [
            "[1.07944732e-01 1.85048113e-02 1.85048113e-02 1.85048113e-02\n",
            " 4.00937577e-02 2.46730817e-02 7.40192450e-02 6.78509746e-02\n",
            " 1.63459166e-01 4.04021712e-01 3.05329386e-01 4.87293363e-01\n",
            " 9.22156427e+00 4.22526524e-01 2.65235628e-01 3.88601036e-01\n",
            " 1.66543301e-01 6.78509746e-02 5.85985690e-02 6.16827042e-03\n",
            " 2.77572169e-02 1.23365408e-02 1.23365408e-02 1.85048113e-02\n",
            " 1.01776462e-01]\n"
          ],
          "name": "stdout"
        },
        {
          "output_type": "display_data",
          "data": {
            "image/png": "[encoded data removed]",
            "text/plain": [
              "<Figure size 576x396 with 1 Axes>"
            ]
          },
          "metadata": {
            "tags": []
          }
        }
      ]
    },
    {
      "metadata": {
        "id": "wVNo7y9vFMwC",
        "colab_type": "code",
        "outputId": "22b25b3c-0d9a-4dda-a600-b3959dc9754a",
        "colab": {
          "base_uri": "https://localhost:8080/",
          "height": 54
        }
      },
      "cell_type": "code",
      "source": [
        "#getting count of all the steering angles\n",
        "angleCount={} \n",
        "  \n",
        "for i in range(len(data['steering'])):\n",
        "  current_angle=data['steering'][i]\n",
        "  if current_angle in angleCount:\n",
        "    angleCount[current_angle] = angleCount[current_angle]+1\n",
        "  else:\n",
        "    angleCount[current_angle] = 1\n",
        "\n",
        "#sorting in desc order\n",
        "sortedAngleCount=OrderedDict(sorted(angleCount.items(), key=lambda x: x[1], reverse=True))\n",
        "\n",
        "print(sortedAngleCount)"
      ],
      "execution_count": 0,
      "outputs": [
        {
          "output_type": "stream",
          "text": [
            "OrderedDict([(0.0, 2927), (-0.05, 57), (0.1, 48), (0.2, 46), (-0.2, 44), (-0.15, 40), (0.05, 38), (-0.1, 37), (-0.25, 34), (1.0, 32), (-1.0, 32), (0.25, 31), (0.15, 29), (-0.3, 19), (0.3, 16), (-0.45, 9), (0.35, 9), (-0.35, 8), (0.45, 8), (-0.5000001000000001, 6), (-0.4, 5), (0.4, 5), (-0.6500001, 3), (-0.6000001, 3), (0.6000001, 3), (-0.7500001999999999, 2), (-0.8500001, 2), (-0.5500001, 2), (0.7, 2), (0.5000001000000001, 2), (0.8500001, 2), (-0.8000001, 2), (0.6500001, 2), (0.8000001, 2), (-0.5354305, 1), (-0.43196190000000007, 1), (-0.19095710000000002, 1), (-0.006139816, 1), (-0.4176539000000001, 1), (-0.148133, 1), (-0.2039619, 1), (-0.2899932, 1), (-0.04874708, 1), (-0.1987471, 1), (-0.39874709999999997, 1), (-0.5835459, 1), (-0.33470059999999996, 1), (-0.09781816, 1), (-0.8377869000000001, 1), (-0.570669, 1), (-0.371641, 1), (-0.11844180000000001, 1), (0.03825914, 1), (0.2382591, 1), (0.3882592, 1), (0.4069337, 1), (0.22462390000000002, 1), (0.03269759, 1), (-0.407143, 1), (-0.22728920000000002, 1), (0.05533018, 1), (-0.21398989999999998, 1), (-0.01322652, 1), (-0.3242413, 1), (-0.1275066, 1), (-0.2405379, 1), (-0.08249395, 1), (-0.27375029999999995, 1), (-0.32764190000000004, 1), (-0.08331793, 1), (-0.200166, 1), (-0.3031508, 1), (-0.05423897, 1), (-0.2449459, 1), (-0.3016789, 1), (-0.04957345, 1), (-0.3062583, 1), (-0.08345101, 1), (0.1286115, 1), (-0.08330809, 1), (-0.3825336, 1), (-0.1330441, 1), (0.31132519999999997, 1), (0.065304, 1), (-0.0687021, 1), (-0.1221219, 1), (-0.2333759, 1), (-0.001612199, 1), (-0.0016762839999999999, 1), (-0.2350399, 1), (-0.05471313, 1), (-0.10918610000000001, 1), (-0.2003791, 1), (-0.2010195, 1), (0.05727987, 1), (-0.4573151, 1), (-0.22021220000000002, 1), (-0.04696485, 1), (0.14988929999999998, 1), (0.1359977, 1), (-0.08808068, 1), (-0.001154052, 1), (-0.05517991, 1), (-0.06382602, 1), (-0.1614014, 1), (-0.1623461, 1), (-0.08598813, 1), (-0.28032229999999997, 1), (-0.06638782, 1), (-0.0884206, 1), (-0.1916862, 1), (-0.205132, 1), (-0.1764287, 1), (-0.3423059, 1), (-0.09517619999999999, 1), (-0.1401458, 1), (-0.07101387, 1), (-0.225794, 1), (-0.34267529999999996, 1), (-0.16931960000000001, 1), (-0.2928112, 1), (-0.101338, 1), (-0.253262, 1), (-0.009710268000000001, 1), (-0.1209359, 1), (-0.6880319, 1), (-0.4563951, 1), (-0.2151169, 1), (-0.02929706, 1), (0.02906417, 1), (-0.24203690000000003, 1), (-0.01741297, 1), (-0.176239, 1), (-0.5365243000000001, 1), (-0.2816858, 1), (-0.1177989, 1), (-0.1573777, 1), (-0.2500055, 1), (-0.026740100000000003, 1), (0.07549702, 1), (-0.2535995, 1), (-0.08172913, 1), (-0.21241100000000002, 1), (-0.03600079, 1), (0.0467715, 1), (0.1818909, 1), (0.01435719, 1), (-0.03961691, 1), (-0.01027312, 1), (0.3205329, 1), (0.14349220000000001, 1), (-0.20424029999999999, 1), (-0.01294575, 1), (-0.21373989999999998, 1), (0.2614844, 1), (0.03375799, 1), (-0.3200723, 1), (-0.1155413, 1), (0.1223683, 1), (0.1306424, 1), (-0.263598, 1), (-0.05535237, 1), (0.03452531, 1), (0.17800020000000003, 1), (-0.2446651, 1), (-0.02297373, 1), (-0.24702739999999998, 1), (-0.06417823, 1), (-0.3069344, 1), (-0.07241428, 1), (-0.1633844, 1), (-0.809979, 1), (-0.6287026, 1), (-0.3744849, 1), (-0.18990520000000002, 1), (-0.861778, 1), (-0.6150856, 1), (-0.3966433, 1), (-0.2128433, 1), (-0.7, 1), (-0.9283148999999999, 1), (-0.7031343000000001, 1), (-0.45905859999999993, 1), (-0.30905859999999996, 1), (-0.1090586, 1), (0.3995205, 1), (0.17798670000000003, 1), (0.4007914, 1), (0.22472489999999998, 1), (-0.19780620000000002, 1), (-0.2696366, 1), (-0.09875653, 1), (0.03722262, 1), (0.10184299999999999, 1), (-0.2783283, 1), (-0.09850777, 1), (0.274573, 1), (0.09108461, 1), (0.5500001, 1), (0.9000002, 1), (0.9145895, 1), (0.6593408000000001, 1), (0.44076190000000004, 1), (0.2596617, 1), (0.01939104, 1), (0.7117975000000001, 1), (0.4839875, 1), (0.26116300000000003, 1), (0.06017174, 1), (0.8063395000000001, 1), (0.6341416, 1), (0.40750759999999997, 1), (0.1585736, 1), (-0.40105630000000003, 1), (-0.19195109999999999, 1), (-0.004531286, 1), (0.19546870000000002, 1), (0.3454687, 1), (0.15962910000000002, 1), (-0.2913615, 1), (-0.05020409, 1), (0.1379215, 1), (-0.14544920000000003, 1), (-0.13471670000000002, 1), (-0.11596989999999999, 1), (-0.0835593, 1), (-0.1482685, 1), (-0.1991906, 1), (-0.2714262, 1), (-0.03044739, 1), (-0.8608259, 1), (-0.6281558, 1), (-0.44607520000000006, 1), (-0.2115292, 1), (-0.2441745, 1), (-0.44417460000000003, 1), (-0.33039840000000004, 1), (-0.09627113, 1), (-0.1254979, 1), (-0.3073593, 1), (-0.10943980000000002, 1), (-0.1950326, 1), (-0.8355195, 1), (-0.6110696999999999, 1), (-0.46106959999999997, 1), (0.18788529999999998, 1), (0.35048270000000004, 1), (0.1580711, 1), (-0.369546, 1), (-0.1908302, 1), (-0.469167, 1), (-0.2027487, 1), (-0.03090797, 1), (-0.1941655, 1), (-0.02841512, 1), (-0.3025953, 1), (-0.11463599999999999, 1), (-0.04506815, 1), (-0.1797134, 1), (-0.3025817, 1), (-0.06566480000000001, 1), (-0.1840747, 1), (-0.169896, 1), (-0.1624372, 1), (-0.2178967, 1), (-0.04847116, 1), (-0.2581615, 1), (-0.07669295, 1), (-0.1969379, 1), (-0.007924363, 1), (0.0007451228, 1), (-0.06685711, 1), (-0.1399265, 1), (-0.24677, 1), (-0.008747072, 1), (-0.15046320000000002, 1), (-0.1558898, 1), (-0.25618470000000004, 1), (-0.07464351, 1), (-0.1283368, 1), (-0.3888051, 1), (-0.20643870000000003, 1), (-0.2143397, 1), (-0.6312878000000001, 1), (-0.397982, 1), (-0.2066837, 1), (0.6499977, 1), (0.45160029999999995, 1), (0.23054810000000003, 1), (0.04156657, 1), (-0.3599724, 1), (-0.1844934, 1), (-0.1697729, 1), (-0.3495023, 1), (-0.16333879999999998, 1), (-0.1718605, 1), (-0.200809, 1), (-0.09854963, 1), (-0.23193870000000003, 1), (-0.05881082, 1), (-0.12236660000000002, 1), (-0.05149363, 1), (-0.1594345, 1), (-0.1958233, 1), (-0.6372107, 1), (-0.4034554, 1), (-0.2195014, 1), (0.03639372, 1), (-0.05705324, 1), (0.3203518, 1), (0.09261312, 1), (-0.1146163, 1), (-0.15935320000000003, 1), (-0.2190508, 1), (-0.16620970000000002, 1), (-0.21844360000000002, 1), (-0.09630066, 1), (-0.1983457, 1), (-0.1860711, 1), (-0.05230277, 1), (-0.1172115, 1), (-0.1593655, 1), (-0.18762920000000002, 1), (0.16944279999999998, 1), (-0.1851536, 1), (0.05567871, 1), (-0.02750129, 1), (0.07967845, 1), (-0.3342448, 1), (-0.11228489999999999, 1), (-0.2767678, 1), (-0.07370992, 1), (-0.37740999999999997, 1), (-0.14180109999999999, 1), (0.9391681000000001, 1), (0.7891680999999999, 1), (0.589168, 1), (0.38916799999999996, 1), (0.18916789999999997, 1), (-0.01083205, 1), (-0.21083200000000002, 1), (-0.3608321, 1), (-0.5608321, 1), (-0.7108321, 1), (-0.9108322, 1), (-0.8964941999999999, 1), (-0.6533071, 1), (-0.49325600000000003, 1), (-0.2932559, 1), (-0.1432559, 1), (0.4155563, 1), (0.2426279, 1), (0.22191679999999997, 1), (0.26431109999999997, 1), (0.02437662, 1), (-0.29555149999999997, 1), (-0.1069531, 1), (0.2123815, 1), (-0.24655570000000002, 1), (-0.01213534, 1), (0.07691833, 1), (-0.0852307, 1), (0.1877782, 1), (0.00020202900000000003, 1), (0.1975636, 1), (0.0230341, 1), (0.1174455, 1), (0.2028313, 1), (0.02603072, 1), (-0.31543509999999997, 1), (-0.14031570000000002, 1), (0.26216059999999997, 1), (0.06819221, 1), (0.2043314, 1), (0.1986068, 1), (0.3415939, 1), (0.15012820000000002, 1), (0.09668615, 1), (0.2316467, 1), (0.20901170000000002, 1), (0.26485290000000006, 1), (0.04481564, 1), (0.4710873, 1), (0.2863328, 1), (0.05274004, 1), (0.2536968, 1), (0.01913597, 1), (0.25990050000000003, 1), (0.07780021, 1), (0.4181317, 1), (0.2366114, 1), (0.3001702, 1), (0.1419735, 1), (0.3386922, 1), (0.1543404, 1), (0.20681929999999998, 1), (0.0223961, 1), (0.15597360000000002, 1), (0.37432109999999996, 1), (0.1898966, 1), (0.05569841, 1), (0.30545520000000004, 1), (0.05636602, 1), (0.28050349999999996, 1), (0.04241277, 1), (0.2519331, 1), (0.07279728, 1), (0.1572865, 1), (0.1729973, 1), (0.2835037, 1), (0.04155188, 1), (0.03764629, 1), (0.0008042585, 1), (0.22849, 1), (0.04563838, 1), (0.17433479999999998, 1), (0.156332, 1), (0.3286642, 1), (0.08827531, 1), (-0.100928, 1), (0.02532374, 1), (0.1597596, 1), (0.01242726, 1), (0.1830869, 1), (0.2804886, 1), (0.10082689999999998, 1), (0.23084989999999997, 1), (0.18328640000000002, 1), (0.01268218, 1), (0.2704643, 1), (0.02355139, 1), (0.17640770000000003, 1), (0.13997579999999998, 1), (0.24910029999999997, 1), (0.06274218, 1), (0.3043504, 1), (0.06386176, 1), (0.326063, 1), (0.07085989999999999, 1), (0.2147967, 1), (0.28299250000000004, 1), (0.09543355, 1), (0.2869104, 1), (0.06717485, 1), (0.25233829999999996, 1), (0.07336382, 1), (0.14862809999999999, 1), (0.4992179, 1), (0.2653333, 1), (0.07929783, 1), (0.07328746, 1), (0.421871, 1), (0.1986684, 1), (0.001062961, 1), (0.271893, 1), (0.025662400000000002, 1), (0.8877879000000001, 1), (0.6270079000000001, 1), (0.3999478, 1), (0.2499478, 1), (-0.26494409999999996, 1), (-0.08971509, 1), (-0.1786333, 1), (0.4117432, 1), (0.1811668, 1), (0.1601008, 1), (0.3061018, 1), (0.06652576, 1), (0.1473422, 1), (0.2726455, 1), (0.08701409, 1), (-0.11608319999999998, 1), (0.04899953, 1), (-0.06784239, 1), (-0.07774229, 1), (-0.2589818, 1), (-0.02547527, 1), (-0.9500002000000001, 1), (-0.9726921000000001, 1), (-0.7992551, 1), (-0.5398225, 1), (-0.3742335, 1), (-0.1260581, 1), (-0.3969882, 1), (-0.1550609, 1), (-0.13610350000000002, 1), (-0.4710048, 1), (-0.2231115, 1), (-0.04529727, 1), (0.2366041, 1), (0.01114513, 1), (-0.2494907, 1), (-0.08157519, 1), (-0.12193230000000001, 1), (-0.27130429999999994, 1), (-0.02966035, 1), (0.29161279999999995, 1), (0.07159518, 1), (0.1103734, 1), (0.45581859999999996, 1), (0.27346329999999996, 1), (0.01961135, 1), (0.8719562, 1), (0.6966336, 1), (0.4530659000000001, 1), (0.2071297, 1), (0.03413357, 1), (0.4481887, 1), (0.26305, 1), (0.02823301, 1), (0.3398955, 1), (0.1098782, 1), (0.3277344, 1), (0.1336736, 1), (0.29926990000000003, 1), (0.04816818, 1), (0.00716075, 1), (0.1641184, 1), (0.1400017, 1), (-0.1570956, 1), (0.01829722, 1), (0.3347349, 1), (0.1478214, 1), (0.1392491, 1), (0.3395161, 1), (0.10203510000000002, 1), (0.22583089999999997, 1), (0.04608299, 1), (0.2250735, 1), (0.3876992, 1), (0.1510655, 1), (0.2860199, 1), (0.0499799, 1), (0.42129209999999995, 1), (0.23908339999999997, 1), (0.3142873, 1), (0.14286279999999998, 1), (0.269389, 1), (0.02845328, 1), (0.5016959, 1), (0.2661585, 1), (0.07691219, 1), (0.1769188, 1), (0.2739042, 1), (0.11007529999999999, 1), (0.3666393, 1), (0.1800952, 1), (0.3649963, 1), (0.17733139999999997, 1), (0.2113493, 1), (0.02158574, 1), (0.25956799999999997, 1), (0.02454165, 1), (0.43322910000000003, 1), (0.24045909999999998, 1), (0.02613781, 1), (0.3291691, 1), (0.13280150000000002, 1), (0.19186720000000002, 1), (0.02418813, 1), (0.23083510000000002, 1), (0.1923735, 1), (0.01636726, 1), (0.2798495, 1), (0.04216526, 1), (0.1287125, 1), (0.1890542, 1), (0.004105077, 1), (0.13991800000000001, 1), (0.2380636, 1), (0.05713087, 1), (-0.05376722, 1), (0.3033848, 1), (0.06365231, 1), (0.1757476, 1), (0.19907360000000002, 1), (0.002006364, 1), (-0.2779884, 1), (-0.04758441, 1), (0.09723174, 1)])\n"
          ],
          "name": "stdout"
        }
      ]
    },
    {
      "metadata": {
        "id": "AqkKYGhoKTrx",
        "colab_type": "code",
        "outputId": "4fd7c0cb-ccb4-45be-a1bf-4901d6a2ac75",
        "colab": {
          "base_uri": "https://localhost:8080/",
          "height": 68
        }
      },
      "cell_type": "code",
      "source": [
        "#we need to remove all the steering angles lying in bin of 0.0 as their frequency is too high. it will add data bias to 0.0\n",
        "\n",
        "#original count\n",
        "print(\"Original Count {0}\".format(len(data['steering'])))\n",
        "\n",
        "remove_list = []\n",
        "list_ = []\n",
        "\n",
        "for i in range(len(data['steering'])):\n",
        "    if data['steering'][i] == 0.0:   #removing streeing angle 0.0\n",
        "      list_.append(i)\n",
        "\n",
        "list_ = shuffle(list_)\n",
        "list_ = list_[350:]\n",
        "remove_list.extend(list_)\n",
        "\n",
        "#removing from original data\n",
        "data.drop(data.index[remove_list], inplace=True)\n",
        "\n",
        "#after removal count\n",
        "print(\"Removed Count {0}\".format(len(remove_list)))\n",
        "print(\"After Removal Count {0}\".format(len(data['steering'])))"
      ],
      "execution_count": 0,
      "outputs": [
        {
          "output_type": "stream",
          "text": [
            "Original Count 4053\n",
            "Removed Count 2577\n",
            "After Removal Count 1476\n"
          ],
          "name": "stdout"
        }
      ]
    },
    {
      "metadata": {
        "id": "Z6dZDWm0Me76",
        "colab_type": "code",
        "outputId": "03161aaa-58dc-4658-f5ad-5619b98e165e",
        "colab": {
          "base_uri": "https://localhost:8080/",
          "height": 500
        }
      },
      "cell_type": "code",
      "source": [
        "plt.hist(data['steering'], density=True, bins=25)"
      ],
      "execution_count": 0,
      "outputs": [
        {
          "output_type": "execute_result",
          "data": {
            "text/plain": [
              "(array([0.29640921, 0.05081301, 0.05081301, 0.05081301, 0.11009485,\n",
              "        0.06775068, 0.20325203, 0.18631436, 0.44884824, 1.10941734,\n",
              "        0.83841463, 1.33807588, 3.49762873, 1.16023035, 0.72831978,\n",
              "        1.06707317, 0.45731707, 0.18631436, 0.16090786, 0.01693767,\n",
              "        0.07621951, 0.03387534, 0.03387534, 0.05081301, 0.27947154]),\n",
              " array([-1.  , -0.92, -0.84, -0.76, -0.68, -0.6 , -0.52, -0.44, -0.36,\n",
              "        -0.28, -0.2 , -0.12, -0.04,  0.04,  0.12,  0.2 ,  0.28,  0.36,\n",
              "         0.44,  0.52,  0.6 ,  0.68,  0.76,  0.84,  0.92,  1.  ]),\n",
              " <a list of 25 Patch objects>)"
            ]
          },
          "metadata": {
            "tags": []
          },
          "execution_count": 156
        },
        {
          "output_type": "display_data",
          "data": {
            "image/png": "[encoded data removed]",
            "text/plain": [
              "<Figure size 576x396 with 1 Axes>"
            ]
          },
          "metadata": {
            "tags": []
          }
        }
      ]
    },
    {
      "metadata": {
        "id": "7-sbkGrp6cIh",
        "colab_type": "code",
        "outputId": "e6885ef9-7430-48dd-904b-8f1db07b4a00",
        "colab": {
          "base_uri": "https://localhost:8080/",
          "height": 153
        }
      },
      "cell_type": "code",
      "source": [
        "#see how iloc shows our data\n",
        "print(data.iloc[1])\n",
        "\n",
        "#get only the image name and center steering data.remove others\n",
        "def get_only_center_image_and_steering_data(input_data):\n",
        "  image_path =[] #will hold center image name\n",
        "  steering =[] #will hold steering angles\n",
        "  \n",
        "  for i in range(len(data)):\n",
        "    current_data = data.iloc[i]   # get row at index i\n",
        "    \n",
        "    image_path.append(current_data[0])\n",
        "    steering.append(float(current_data[3]))\n",
        "    \n",
        "  image_paths = np.asarray(image_path)\n",
        "  steerings = np.asarray(steering)\n",
        "  \n",
        "  return image_paths, steerings"
      ],
      "execution_count": 0,
      "outputs": [
        {
          "output_type": "stream",
          "text": [
            "center      center_2018_07_16_17_11_44_413.jpg\n",
            "left        left_2018_07_16_17_11_44_413.jpg  \n",
            "right       right_2018_07_16_17_11_44_413.jpg \n",
            "steering   -0.05                              \n",
            "throttle    0.642727                          \n",
            "reverse     0                                 \n",
            "speed       1.43401                           \n",
            "Name: 12, dtype: object\n"
          ],
          "name": "stdout"
        }
      ]
    },
    {
      "metadata": {
        "id": "3eEbREkK6EJn",
        "colab_type": "code",
        "outputId": "be526cb2-e27c-4db9-f2f2-9b639ecee2b9",
        "colab": {
          "base_uri": "https://localhost:8080/",
          "height": 331
        }
      },
      "cell_type": "code",
      "source": [
        "image_paths, steerings = get_only_center_image_and_steering_data(data)\n",
        "\n",
        "#divide data into training and validation data\n",
        "X_train, X_valid, y_train, y_valid = train_test_split(image_paths, steerings, test_size=0.2, random_state=6)  #6 is the random seed value\n",
        "\n",
        "print('Training Samples: {}\\nValid Samples: {}'.format(len(X_train), len(X_valid)))\n",
        "\n",
        "fig, axes = plt.subplots(1, 2, figsize=(12, 4))\n",
        "\n",
        "axes[0].hist(y_train, density=True, bins=25)\n",
        "axes[0].set_title('Training set')\n",
        "\n",
        "axes[1].hist(y_valid, density=True, bins=25)\n",
        "axes[1].set_title('Validation set')"
      ],
      "execution_count": 0,
      "outputs": [
        {
          "output_type": "stream",
          "text": [
            "Training Samples: 1180\n",
            "Valid Samples: 296\n"
          ],
          "name": "stdout"
        },
        {
          "output_type": "execute_result",
          "data": {
            "text/plain": [
              "Text(0.5, 1.0, 'Validation set')"
            ]
          },
          "metadata": {
            "tags": []
          },
          "execution_count": 158
        },
        {
          "output_type": "display_data",
          "data": {
            "image/png": "[encoded data removed]",
            "text/plain": [
              "<Figure size 864x288 with 2 Axes>"
            ]
          },
          "metadata": {
            "tags": []
          }
        }
      ]
    },
    {
      "metadata": {
        "id": "8Onr5LuHJJ9-",
        "colab_type": "code",
        "colab": {}
      },
      "cell_type": "code",
      "source": [
        "#X_train, X_valid till now only have image paths. Put exact image data in them\n",
        "def get_original_image(imgName):\n",
        "  original_image=mpimg.imread(\"track//IMG//\"+imgName)\n",
        "  return original_image\n",
        "\n",
        "X_train=np.array(list(map(get_original_image, X_train)))\n",
        "X_valid=np.array(list(map(get_original_image, X_valid)))"
      ],
      "execution_count": 0,
      "outputs": []
    },
    {
      "metadata": {
        "id": "CCvAQCdPCb9P",
        "colab_type": "code",
        "colab": {}
      },
      "cell_type": "code",
      "source": [
        "#zoom an image\n",
        "def zoom(image3):\n",
        "  zoom=iaa.Affine(scale=(1,1.3)) #Affine is used for Affine type operations like scaling, zooming\n",
        "  #range is 1 to 1.3. means we want zoomin only. 1 is for original image\n",
        "  image3=zoom.augment_image(image3)\n",
        "  return image3  "
      ],
      "execution_count": 0,
      "outputs": []
    },
    {
      "metadata": {
        "id": "mDX6EuoPFU2N",
        "colab_type": "code",
        "colab": {}
      },
      "cell_type": "code",
      "source": [
        "#linear shift/translate an image(panning an image)\n",
        "def pan_image(image3):\n",
        "  pan1=iaa.Affine(translate_percent={\"x\":(-0.1,0.1), \"y\":(-0.1, 0.1)} ) #defines range from -0.1 to 0.1 %\n",
        "  image3=pan1.augment_image(image3)\n",
        "  return image3  "
      ],
      "execution_count": 0,
      "outputs": []
    },
    {
      "metadata": {
        "id": "7upW-o64JVm9",
        "colab_type": "code",
        "colab": {}
      },
      "cell_type": "code",
      "source": [
        "#change brightness in an image\n",
        "def change_brightness(image3):\n",
        "  brightness=iaa.Multiply((0.2, 1.2))\n",
        "  image=brightness.augment_image(image3)\n",
        "  return image3  "
      ],
      "execution_count": 0,
      "outputs": []
    },
    {
      "metadata": {
        "id": "T2Qxi2WcKHqF",
        "colab_type": "code",
        "colab": {}
      },
      "cell_type": "code",
      "source": [
        "#flip an image. here we already have balanced data. so we dont actually need flipping operation\n",
        "def flip_image(image3, steering_angle): \n",
        "  image3=cv2.flip(image3, 1)   #0 -vertical flip, 1- horizontal flip, -1- mixed fli\n",
        "  steering_angle=-steering_angle\n",
        "  return image3, steering_angle"
      ],
      "execution_count": 0,
      "outputs": []
    },
    {
      "metadata": {
        "id": "-mjz400HMYUc",
        "colab_type": "code",
        "colab": {}
      },
      "cell_type": "code",
      "source": [
        "#now we will apply these augmentations to our data. we will keep this random.\n",
        "#as we dont want each augmentation to be applied to each input image\n",
        "\n",
        "def random_augment(image3, steering_angle): \n",
        "  if np.random.rand() < 0.5:\n",
        "    image3 = pan_image(image3)\n",
        "  if np.random.rand() < 0.5:\n",
        "    image3 = zoom(image3)\n",
        "  if np.random.rand() < 0.5:\n",
        "    image3 = change_brightness(image3)\n",
        "  if np.random.rand() < 0.5:\n",
        "    image3, steering_angle = flip_image(image3, steering_angle)\n",
        "  return image3, steering_angle"
      ],
      "execution_count": 0,
      "outputs": []
    },
    {
      "metadata": {
        "id": "T004NLJRFUl_",
        "colab_type": "code",
        "colab": {}
      },
      "cell_type": "code",
      "source": [
        "# image preprocessing steps\n",
        "def get_preprocessed_image(img1):\n",
        "  img1=img1[60:135,:,:]\n",
        "  img1=cv2.cvtColor(img1, cv2.COLOR_RGB2YUV)\n",
        "  img1=cv2.GaussianBlur(img1, (3,3), 0)  # 3X3 is the Gaussian Blur kernel.. Gaussian blur helps us remove noise and smoothen image\n",
        "  img1=cv2.resize(img1,(200, 66))\n",
        "  img1=img1/255\n",
        "  return img1"
      ],
      "execution_count": 0,
      "outputs": []
    },
    {
      "metadata": {
        "id": "UA1XOGO_SvTP",
        "colab_type": "code",
        "colab": {}
      },
      "cell_type": "code",
      "source": [
        "# Data augmentation\n",
        "# we will not use the traditional ImageDataGenerator now. Since we want to have custom Data Augmentation\n",
        "\n",
        "def batch_generator(image_paths, steering_ang, batch_size, istraining):\n",
        "  \n",
        "  while True:\n",
        "    batch_img = []\n",
        "    batch_steering = []\n",
        "    \n",
        "    for i in range(batch_size):\n",
        "      random_index = random.randint(0, len(image_paths) - 1)\n",
        "      \n",
        "      if istraining:\n",
        "        img2, steering = random_augment(image_paths[random_index], steering_ang[random_index])\n",
        "     \n",
        "      else:\n",
        "        img2 = image_paths[random_index]\n",
        "        steering = steering_ang[random_index]\n",
        "      \n",
        "      img2 = get_preprocessed_image(img2)\n",
        "      batch_img.append(img2)\n",
        "      batch_steering.append(steering)\n",
        "    yield (np.asarray(batch_img), np.asarray(batch_steering))  #return the list and pause here\n",
        "    \n",
        "#NOTE: ImageDataGenerator never performed any data augmentation beforehanded, it will only do when some data is requested from it.\n",
        "#This actually does not all load all the data into memory at one go and hence saving memory usage.\n",
        "#to have same type of functioanliy here with our custom code we have used yield command."
      ],
      "execution_count": 0,
      "outputs": []
    },
    {
      "metadata": {
        "id": "Ytg6mO2mKCN6",
        "colab_type": "code",
        "colab": {}
      },
      "cell_type": "code",
      "source": [
        "def nvidia_model():\n",
        "  model=Sequential()\n",
        "  \n",
        "  model.add(Convolution2D(24,5,5,subsample=(2,2), input_shape=(66,200,3), activation='elu'))\n",
        "  #Convolution2D is same as Conv2D...subsample is same as stride..\n",
        "  model.add(Convolution2D(36,5,5,subsample=(2,2), activation='elu'))\n",
        "  model.add(Convolution2D(48,5,5,subsample=(2,2), activation='elu'))\n",
        "  model.add(Convolution2D(64,3,3, activation='elu'))\n",
        "  model.add(Convolution2D(64,3,3, activation='elu'))\n",
        "  #model.add(Dropout(0.5))\n",
        "  \n",
        "  model.add(Flatten())\n",
        "  \n",
        "  model.add(Dense(100, activation='elu'))\n",
        "  #model.add(Dropout(0.5))\n",
        "  \n",
        "  model.add(Dense(50, activation='elu'))\n",
        "  model.add(Dense(10, activation='elu'))\n",
        "  model.add(Dense(1))\n",
        " \n",
        "  #Adam is the optimizer. and we are using categorical_crossentropy() for calculating loss here\n",
        "  model.compile(Adam(lr=0.001),loss='mse', metrics=['accuracy'])\n",
        "  \n",
        "  return model"
      ],
      "execution_count": 0,
      "outputs": []
    },
    {
      "metadata": {
        "id": "A_5tTcokM0lK",
        "colab_type": "code",
        "outputId": "a0196c72-e051-4117-fbc6-10c7a630205d",
        "colab": {
          "base_uri": "https://localhost:8080/",
          "height": 683
        }
      },
      "cell_type": "code",
      "source": [
        "model=nvidia_model()\n",
        "print(model.summary())"
      ],
      "execution_count": 0,
      "outputs": [
        {
          "output_type": "stream",
          "text": [
            "/usr/local/lib/python3.6/dist-packages/ipykernel_launcher.py:4: UserWarning: Update your `Conv2D` call to the Keras 2 API: `Conv2D(24, (5, 5), input_shape=(66, 200, ..., activation=\"elu\", strides=(2, 2))`\n",
            "  after removing the cwd from sys.path.\n",
            "/usr/local/lib/python3.6/dist-packages/ipykernel_launcher.py:6: UserWarning: Update your `Conv2D` call to the Keras 2 API: `Conv2D(36, (5, 5), activation=\"elu\", strides=(2, 2))`\n",
            "  \n",
            "/usr/local/lib/python3.6/dist-packages/ipykernel_launcher.py:7: UserWarning: Update your `Conv2D` call to the Keras 2 API: `Conv2D(48, (5, 5), activation=\"elu\", strides=(2, 2))`\n",
            "  import sys\n",
            "/usr/local/lib/python3.6/dist-packages/ipykernel_launcher.py:8: UserWarning: Update your `Conv2D` call to the Keras 2 API: `Conv2D(64, (3, 3), activation=\"elu\")`\n",
            "  \n",
            "/usr/local/lib/python3.6/dist-packages/ipykernel_launcher.py:9: UserWarning: Update your `Conv2D` call to the Keras 2 API: `Conv2D(64, (3, 3), activation=\"elu\")`\n",
            "  if __name__ == '__main__':\n"
          ],
          "name": "stderr"
        },
        {
          "output_type": "stream",
          "text": [
            "_________________________________________________________________\n",
            "Layer (type)                 Output Shape              Param #   \n",
            "=================================================================\n",
            "conv2d_36 (Conv2D)           (None, 31, 98, 24)        1824      \n",
            "_________________________________________________________________\n",
            "conv2d_37 (Conv2D)           (None, 14, 47, 36)        21636     \n",
            "_________________________________________________________________\n",
            "conv2d_38 (Conv2D)           (None, 5, 22, 48)         43248     \n",
            "_________________________________________________________________\n",
            "conv2d_39 (Conv2D)           (None, 3, 20, 64)         27712     \n",
            "_________________________________________________________________\n",
            "conv2d_40 (Conv2D)           (None, 1, 18, 64)         36928     \n",
            "_________________________________________________________________\n",
            "flatten_8 (Flatten)          (None, 1152)              0         \n",
            "_________________________________________________________________\n",
            "dense_29 (Dense)             (None, 100)               115300    \n",
            "_________________________________________________________________\n",
            "dense_30 (Dense)             (None, 50)                5050      \n",
            "_________________________________________________________________\n",
            "dense_31 (Dense)             (None, 10)                510       \n",
            "_________________________________________________________________\n",
            "dense_32 (Dense)             (None, 1)                 11        \n",
            "=================================================================\n",
            "Total params: 252,219\n",
            "Trainable params: 252,219\n",
            "Non-trainable params: 0\n",
            "_________________________________________________________________\n",
            "None\n"
          ],
          "name": "stdout"
        }
      ]
    },
    {
      "metadata": {
        "id": "zvjWPxEhNUHk",
        "colab_type": "code",
        "outputId": "b398f79e-3bc7-4ee1-c1c7-12133d412f29",
        "colab": {
          "base_uri": "https://localhost:8080/",
          "height": 733
        }
      },
      "cell_type": "code",
      "source": [
        "#training our model without data augmentation\n",
        "#history=model.fit(X_train, y_train, epochs=10, validation_data=(X_valid, y_valid), batch_size=100, verbose=1, shuffle=1)\n",
        "\n",
        "#training our model with data augmentation\n",
        "\n",
        "#TRAINING---10 epochs, each epoch having 300 batches, each batch having 100 images\n",
        "#VALIDATION---10 epochs, each epoch having 200 batches, each batch having 100 images\n",
        "history = model.fit_generator(batch_generator(X_train, y_train, 100, 1),steps_per_epoch=300,epochs=10,validation_data=batch_generator(X_valid, y_valid, 100, 0),validation_steps=200, verbose=1, shuffle=1)\n",
        "\n",
        "#history.history gives 4 things training_loss, training_accuracy, val_loss, val_accuracy\n",
        "plt.plot(history.history['loss'])  #1 line\n",
        "plt.plot(history.history['val_loss'])  #2 line\n",
        "plt.legend(['training', 'validation']) #lables for 1,2 line\n",
        "plt.title('Loss')\n",
        "plt.xlabel('epoch')"
      ],
      "execution_count": 0,
      "outputs": [
        {
          "output_type": "stream",
          "text": [
            "Epoch 1/10\n",
            "300/300 [==============================] - 91s 302ms/step - loss: 0.1266 - acc: 0.2431 - val_loss: 0.0685 - val_acc: 0.2262\n",
            "Epoch 2/10\n",
            "300/300 [==============================] - 87s 290ms/step - loss: 0.0610 - acc: 0.2566 - val_loss: 0.0599 - val_acc: 0.2280\n",
            "Epoch 3/10\n",
            "300/300 [==============================] - 85s 283ms/step - loss: 0.0550 - acc: 0.2633 - val_loss: 0.0564 - val_acc: 0.2370\n",
            "Epoch 4/10\n",
            "300/300 [==============================] - 84s 281ms/step - loss: 0.0443 - acc: 0.2724 - val_loss: 0.0390 - val_acc: 0.2530\n",
            "Epoch 5/10\n",
            "300/300 [==============================] - 86s 287ms/step - loss: 0.0386 - acc: 0.2776 - val_loss: 0.0369 - val_acc: 0.2630\n",
            "Epoch 6/10\n",
            "300/300 [==============================] - 84s 279ms/step - loss: 0.0353 - acc: 0.2766 - val_loss: 0.0327 - val_acc: 0.2603\n",
            "Epoch 7/10\n",
            "300/300 [==============================] - 82s 275ms/step - loss: 0.0330 - acc: 0.2849 - val_loss: 0.0332 - val_acc: 0.2594\n",
            "Epoch 8/10\n",
            "300/300 [==============================] - 83s 278ms/step - loss: 0.0312 - acc: 0.2839 - val_loss: 0.0318 - val_acc: 0.2572\n",
            "Epoch 9/10\n",
            "300/300 [==============================] - 85s 282ms/step - loss: 0.0298 - acc: 0.2787 - val_loss: 0.0278 - val_acc: 0.2524\n",
            "Epoch 10/10\n",
            "300/300 [==============================] - 82s 275ms/step - loss: 0.0287 - acc: 0.2833 - val_loss: 0.0262 - val_acc: 0.2569\n"
          ],
          "name": "stdout"
        },
        {
          "output_type": "execute_result",
          "data": {
            "text/plain": [
              "Text(0.5, 0, 'epoch')"
            ]
          },
          "metadata": {
            "tags": []
          },
          "execution_count": 169
        },
        {
          "output_type": "display_data",
          "data": {
            "image/png": "[encoded data removed]",
            "text/plain": [
              "<Figure size 576x396 with 1 Axes>"
            ]
          },
          "metadata": {
            "tags": []
          }
        }
      ]
    },
    {
      "metadata": {
        "id": "-piWmvB_O9jx",
        "colab_type": "code",
        "colab": {}
      },
      "cell_type": "code",
      "source": [
        "#code for saving the complete model\n",
        "\n",
        "model.save('model.h5')\n",
        "\n",
        "from google.colab import files\n",
        "files.download('model.h5')"
      ],
      "execution_count": 0,
      "outputs": []
    }
  ]
}